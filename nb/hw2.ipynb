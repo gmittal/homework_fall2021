{
 "cells": [
  {
   "cell_type": "code",
   "execution_count": 1,
   "id": "a9f03587-454a-43f6-9530-b8ddb2a965c7",
   "metadata": {},
   "outputs": [
    {
     "name": "stdout",
     "output_type": "stream",
     "text": [
      "/home/ubuntu/cs285/hw2\n"
     ]
    }
   ],
   "source": [
    "cd ~/cs285/hw2"
   ]
  },
  {
   "cell_type": "code",
   "execution_count": 1,
   "id": "449049d7-b384-4998-93d4-69af2793af6e",
   "metadata": {},
   "outputs": [],
   "source": [
    "import matplotlib.pyplot as plt"
   ]
  },
  {
   "cell_type": "code",
   "execution_count": null,
   "id": "2cec4f75-22c2-4fc5-b50d-41429dcb724c",
   "metadata": {},
   "outputs": [],
   "source": []
  }
 ],
 "metadata": {
  "kernelspec": {
   "display_name": "Python 3 (ipykernel)",
   "language": "python",
   "name": "python3"
  },
  "language_info": {
   "codemirror_mode": {
    "name": "ipython",
    "version": 3
   },
   "file_extension": ".py",
   "mimetype": "text/x-python",
   "name": "python",
   "nbconvert_exporter": "python",
   "pygments_lexer": "ipython3",
   "version": "3.8.11"
  }
 },
 "nbformat": 4,
 "nbformat_minor": 5
}
